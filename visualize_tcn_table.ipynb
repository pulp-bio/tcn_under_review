{
 "cells": [
  {
   "cell_type": "code",
   "execution_count": 4,
   "id": "3699162e",
   "metadata": {},
   "outputs": [],
   "source": [
    "\"\"\"\n",
    "    Author(s):\n",
    "    Marcello Zanghieri <marcello.zanghieri2@unibo.it>\n",
    "    \n",
    "    Copyright (C) 2023 University of Bologna\n",
    "    \n",
    "    Licensed under the GNU Lesser General Public License (LGPL), Version 2.1\n",
    "    (the \"License\");\n",
    "    you may not use this file except in compliance with the License.\n",
    "    You may obtain a copy of the License at\n",
    "    \n",
    "        https://www.gnu.org/licenses/lgpl-2.1.txt\n",
    "    \n",
    "    Unless required by applicable law or agreed to in writing, software\n",
    "    distributed under the License is distributed on an \"AS IS\" BASIS,\n",
    "    WITHOUT WARRANTIES OR CONDITIONS OF ANY KIND, either express or implied.\n",
    "    See the License for the specific language governing permissions and\n",
    "    limitations under the License.\n",
    "\"\"\"\n",
    "\n",
    "from tcn import TCN, summarize"
   ]
  },
  {
   "cell_type": "code",
   "execution_count": 5,
   "id": "7313d39d",
   "metadata": {},
   "outputs": [
    {
     "data": {
      "text/plain": [
       "TCN(\n",
       "  (b0_tcn): Conv1d(9, 4, kernel_size=(3,), stride=(2,), padding=(1,))\n",
       "  (b0_relu): ReLU()\n",
       "  (b1_tcn): Conv1d(4, 4, kernel_size=(3,), stride=(2,), padding=(1,))\n",
       "  (b1_relu): ReLU()\n",
       "  (b2_tcn): Conv1d(4, 2, kernel_size=(3,), stride=(2,), padding=(1,))\n",
       "  (b2_relu): ReLU()\n",
       "  (b3_tcn): Conv1d(2, 2, kernel_size=(3,), stride=(2,), padding=(1,))\n",
       "  (b3_relu): ReLU()\n",
       "  (b4_tcn): Conv1d(2, 1, kernel_size=(3,), stride=(2,), padding=(1,))\n",
       "  (b4_relu): ReLU()\n",
       "  (b5_tcn): Conv1d(1, 1, kernel_size=(3,), stride=(2,), padding=(1,))\n",
       "  (b5_relu): ReLU()\n",
       "  (fc0): Linear(in_features=32, out_features=8, bias=True)\n",
       "  (fc0_relu): ReLU()\n",
       "  (fc1): Linear(in_features=8, out_features=8, bias=True)\n",
       "  (fc1_relu): ReLU()\n",
       "  (fc2): Linear(in_features=8, out_features=1, bias=True)\n",
       ")"
      ]
     },
     "execution_count": 5,
     "metadata": {},
     "output_type": "execute_result"
    }
   ],
   "source": [
    "bias = True\n",
    "bn = False\n",
    "tcn = TCN(bias=bias, bn=bn)\n",
    "tcn.eval()"
   ]
  },
  {
   "cell_type": "code",
   "execution_count": 6,
   "id": "c3415086",
   "metadata": {},
   "outputs": [
    {
     "name": "stdout",
     "output_type": "stream",
     "text": [
      "=======================================================================================================================================================================================================================\n",
      "Layer (type (var_name):depth-idx)        Input Shape               Output Shape              Param #                   Param %                   Kernel Shape              Mult-Adds                 Trainable\n",
      "=======================================================================================================================================================================================================================\n",
      "TCN (TCN)                                [1, 9, 2048]              [1, 1]                    --                             --                   --                        --                        True\n",
      "+ Conv1d (b0_tcn): 1-1                   [1, 9, 2048]              [1, 4, 1024]              112                        20.00%                   [3]                       114,688                   True\n",
      "+ ReLU (b0_relu): 1-2                    [1, 4, 1024]              [1, 4, 1024]              --                             --                   --                        --                        --\n",
      "+ Conv1d (b1_tcn): 1-3                   [1, 4, 1024]              [1, 4, 512]               52                          9.29%                   [3]                       26,624                    True\n",
      "+ ReLU (b1_relu): 1-4                    [1, 4, 512]               [1, 4, 512]               --                             --                   --                        --                        --\n",
      "+ Conv1d (b2_tcn): 1-5                   [1, 4, 512]               [1, 2, 256]               26                          4.64%                   [3]                       6,656                     True\n",
      "+ ReLU (b2_relu): 1-6                    [1, 2, 256]               [1, 2, 256]               --                             --                   --                        --                        --\n",
      "+ Conv1d (b3_tcn): 1-7                   [1, 2, 256]               [1, 2, 128]               14                          2.50%                   [3]                       1,792                     True\n",
      "+ ReLU (b3_relu): 1-8                    [1, 2, 128]               [1, 2, 128]               --                             --                   --                        --                        --\n",
      "+ Conv1d (b4_tcn): 1-9                   [1, 2, 128]               [1, 1, 64]                7                           1.25%                   [3]                       448                       True\n",
      "+ ReLU (b4_relu): 1-10                   [1, 1, 64]                [1, 1, 64]                --                             --                   --                        --                        --\n",
      "+ Conv1d (b5_tcn): 1-11                  [1, 1, 64]                [1, 1, 32]                4                           0.71%                   [3]                       128                       True\n",
      "+ ReLU (b5_relu): 1-12                   [1, 1, 32]                [1, 1, 32]                --                             --                   --                        --                        --\n",
      "+ Linear (fc0): 1-13                     [1, 32]                   [1, 8]                    264                        47.14%                   --                        264                       True\n",
      "+ ReLU (fc0_relu): 1-14                  [1, 8]                    [1, 8]                    --                             --                   --                        --                        --\n",
      "+ Linear (fc1): 1-15                     [1, 8]                    [1, 8]                    72                         12.86%                   --                        72                        True\n",
      "+ ReLU (fc1_relu): 1-16                  [1, 8]                    [1, 8]                    --                             --                   --                        --                        --\n",
      "+ Linear (fc2): 1-17                     [1, 8]                    [1, 1]                    9                           1.61%                   --                        9                         True\n",
      "=======================================================================================================================================================================================================================\n",
      "Total params: 560\n",
      "Trainable params: 560\n",
      "Non-trainable params: 0\n",
      "Total mult-adds (M): 0.15\n",
      "=======================================================================================================================================================================================================================\n",
      "Input size (MB): 0.07\n",
      "Forward/backward pass size (MB): 0.06\n",
      "Params size (MB): 0.00\n",
      "Estimated Total Size (MB): 0.13\n",
      "=======================================================================================================================================================================================================================\n"
     ]
    }
   ],
   "source": [
    "verbose = 1\n",
    "tcn_model_stats = summarize(tcn, verbose=1)"
   ]
  },
  {
   "cell_type": "code",
   "execution_count": 9,
   "id": "e8cb4267",
   "metadata": {},
   "outputs": [],
   "source": [
    "OUT_FILE_NAME = 'tcn_table.txt'\n",
    "with open(OUT_FILE_NAME, 'w') as out_file:\n",
    "    print(f\"{tcn_model_stats}\", file=out_file)"
   ]
  },
  {
   "cell_type": "code",
   "execution_count": null,
   "id": "298cc45c",
   "metadata": {},
   "outputs": [],
   "source": []
  }
 ],
 "metadata": {
  "kernelspec": {
   "display_name": "Python 3 (ipykernel)",
   "language": "python",
   "name": "python3"
  },
  "language_info": {
   "codemirror_mode": {
    "name": "ipython",
    "version": 3
   },
   "file_extension": ".py",
   "mimetype": "text/x-python",
   "name": "python",
   "nbconvert_exporter": "python",
   "pygments_lexer": "ipython3",
   "version": "3.7.15"
  }
 },
 "nbformat": 4,
 "nbformat_minor": 5
}
